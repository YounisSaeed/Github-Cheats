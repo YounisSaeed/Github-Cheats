{
 "cells": [
  {
   "cell_type": "markdown",
   "metadata": {},
   "source": [
    "# 1. Start"
   ]
  },
  {
   "cell_type": "markdown",
   "metadata": {},
   "source": [
    "### Identity\n",
    "> ```$ git config --global user.name \\\"Younis Zidan\\\"```  \n",
    "> ``$ git config --global user.email younis@example.com```\n",
    "\n",
    "### Configurations\n",
    "  \n",
    "> - ``$ git config --global`` # User (global) -> ~/.gitconfig  \n",
    "> - ``$ git config --system`` # System -> /etc/gitconfig  \n",
    "> - ``$ git config ``         # Project -> <project>/.git/conifg  \n",
    "\n",
    "### Text Editor\n",
    "> ```$ git config --global core.editor vi [or code 🙂]```\n",
    "\n",
    "### Color Output\n",
    "> ``$ git config --global color.ui true``"
   ]
  },
  {
    "cell_type": "code",
   "execution_count": null,
   "metadata": {},
   "outputs": [],
   "source": [
    "!git config --global user.name YounisSaeed \n",
    "!git config --global user.email Younis@example.com\n"
   ]
  },
  {
   "cell_type": "code",
   "execution_count": null,
   "metadata": {},
   "outputs": [],
   "source": [
    "# Check your settings\n",
    "!git config --list # or git config user.name , etc."
   ]
  },
 ],
 "metadata": {
  "interpreter": {
   "hash": "0cb999726ad25b24b4f63c8cd65441c9a90e6017a34bbf9633e7287fd8b6e217"
  },
  "kernelspec": {
   "display_name": "Python 3 (ipykernel)",
   "language": "python",
   "name": "python3"
  },
  "language_info": {
   "codemirror_mode": {
    "name": "ipython",
    "version": 3
   },
   "file_extension": ".py",
   "mimetype": "text/x-python",
   "name": "python",
   "nbconvert_exporter": "python",
   "pygments_lexer": "ipython3",
   "version": "3.9.7"
  }
 },
 "nbformat": 4,
 "nbformat_minor": 2
}
