 {
   "cell_type": "markdown",
   "metadata": {},
   "source": [
    "### Identity\n",
    "> ```$ git config --global user.name \"Younis Zidan\"```  \n",
    "> ``$ git config --global user.email younis@example.com``  \n",
    "\n",
    "### Configurations\n",
    "  \n",
    "> - ``$ git config --global`` # User (global) -> ~/.gitconfig  \n",
    "> - ``$ git config --system`` # System -> /etc/gitconfig  \n",
    "> - ``$ git config ``         # Project -> <project>/.git/conifg  \n",
    "\n",
    "### Text Editor\n",
    "> ```$ git config --global core.editor vi [or code 🙂]```\n",
    "\n",
    "### Color Output\n",
    "> ``$ git config --global color.ui true``"
   ]
  },
